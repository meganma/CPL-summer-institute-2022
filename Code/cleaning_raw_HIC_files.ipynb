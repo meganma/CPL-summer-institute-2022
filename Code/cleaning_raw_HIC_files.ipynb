{
 "cells": [
  {
   "cell_type": "code",
   "execution_count": 5,
   "id": "c106c099-dd54-48b5-8a3b-be47e5449efa",
   "metadata": {},
   "outputs": [],
   "source": [
    "import pandas as pd\n",
    "import numpy as np\n",
    "import os\n",
    "import matplotlib.pyplot as plt\n",
    "import seaborn as sns\n",
    "#from tabula import read_pdf"
   ]
  },
  {
   "cell_type": "markdown",
   "id": "91d4a8c7-f27c-4aca-a75a-44707e74864c",
   "metadata": {},
   "source": [
    "## Read HIC Raw Data (2007-2021) and Standardize Column Names"
   ]
  },
  {
   "cell_type": "code",
   "execution_count": 6,
   "id": "7f103e8b-cc6a-4f1f-b3c0-7e424ac05697",
   "metadata": {},
   "outputs": [],
   "source": [
    "os.chdir('../SourceData/RawHIC')"
   ]
  },
  {
   "cell_type": "code",
   "execution_count": 7,
   "id": "b6520262-9c5b-442f-ad7f-262ecbe6be87",
   "metadata": {},
   "outputs": [],
   "source": [
    "hic_2012 = pd.read_csv('2012HIC_RawData.csv',dtype={'Geo Code': 'Int64'})\n",
    "hic_2012.rename(columns = {'HUD CoC Number':'CoC', 'Program Name':'Project Name', 'Program Type':'Project Type'}, inplace = True)\n",
    "\n",
    "hic_2013 = pd.read_csv('2013-Housing-Inventory-Count-Raw-File.csv',dtype={'Geo Code': int})\n",
    "hic_2013.rename(columns = {'CoC':'CoC Name','HudNum':'CoC', 'year': 'Year','Program Name':'Project Name', 'Program Type':'Project Type','Year-Round Beds':'Total Year Round Beds', 'CH Beds':'Chronically Homeless Beds'}, inplace = True)\n",
    "\n",
    "hic_2014 = pd.read_csv('2014-Housing-Inventory-Count-Raw-File.csv',dtype={'Geo Code': int})\n",
    "hic_2014.rename(columns = {'CoC':'CoC Name', 'HudNum':'CoC','year':'Year','Year-Round Beds':'Total Year Round Beds','CH Beds':'Chronically Homeless Beds'}, inplace = True)\n",
    "\n",
    "hic_2015 = pd.read_csv('2015-Housing-Inventory-Count-Raw-File.csv',dtype={'Geo Code': int})\n",
    "hic_2015.rename(columns = {'CoC':'CoC Name','HudNum':'CoC','year':'Year','Year-Round Beds':'Total Year Round Beds','Program Name':'Project Name', 'Program Type':'Project Type','CH Beds':'Chronically Homeless Beds'}, inplace = True)\n",
    "\n",
    "hic_2016 = pd.read_csv('2016-Housing-Inventory-Count-Raw-File.csv',dtype={'Geo Code': int})\n",
    "hic_2016.rename(columns = {'CoC':'CoC Name', 'HudNum':'CoC','notes':'Notes','year':'Year','Year-Round Beds':'Total Year Round Beds','Program Name':'Project Name', 'Program Type':'Project Type'}, inplace = True)\n",
    "\n",
    "hic_2017 = pd.read_csv('2017-Housing-Inventory-Count-Raw-File.csv',dtype={'sandyRelatedNote': str,'Geo Code':int})\n",
    "hic_2017.rename(columns = {'CoC':'CoC Name', 'HudNum':'CoC','year':'Year','address1':'Address1','address2':'Address2','city':'City','zip':'Zip','Year-Round Beds':'Total Year Round Beds','Program Name':'Project Name', 'Program Type':'Project Type'}, inplace = True)\n",
    "hic_2017['Notes'] = hic_2017.notes+\". \"+hic_2017.projectNotes\n",
    "\n",
    "hic_2018 = pd.read_csv('2018-Housing-Inventory-County-RawFile.csv',dtype={'Target Population B': str,'address2':str,'sandyRelatedNote':str,'Geo Code':int})\n",
    "hic_2018.rename(columns = {'CoC':'CoC Name', 'HudNum':'CoC','year':'Year','address1':'Address1','address2':'Address2','city':'City','zip':'Zip','Year-Round Beds':'Total Year Round Beds','Program Name':'Project Name', 'Program Type':'Project Type'}, inplace = True)\n",
    "hic_2018['Notes'] = hic_2018.notes+\". \"+hic_2018.projectNotes\n",
    "\n",
    "hic_2019 = pd.read_csv('2019-Housing-Inventory-County-RawFile.csv',dtype={'sandyRelatedNote': str,'Geo Code':int})\n",
    "hic_2019.rename(columns = {'CoC':'CoC Name', 'HudNum':'CoC','year':'Year','address1':'Address1','address2':'Address2','city':'City','zip':'Zip','Year-Round Beds':'Total Year Round Beds','Program Name':'Project Name', 'Program Type':'Project Type'}, inplace = True)\n",
    "hic_2019['Notes'] = hic_2019.notes+\". \"+hic_2019.projectNotes\n",
    "\n",
    "hic_2020 = pd.read_csv('2020-HIC-Raw-File.csv',dtype={'sandyRelatedNote': str,'Geo Code': int})\n",
    "hic_2020.rename(columns = {'CoC':'CoC Name', 'HudNum':'CoC','year':'Year','Year-Round Beds':'Total Year Round Beds','address1':'Address1','address2':'Address2','city':'City','zip':'Zip','Program Name':'Project Name', 'Program Type':'Project Type'}, inplace = True)\n",
    "hic_2020['Notes'] = hic_2020.notes+\". \"+hic_2020.projectNotes\n",
    "\n",
    "hic_2021 = pd.read_csv('2021-HIC-Counts-by-State.csv',dtype={'sandyRelatedNote': str,'Geo Code':'Int64'})\n",
    "hic_2021.rename(columns = {'CoC':'CoC Name', 'HudNum':'CoC','year':'Year','Year-Round Beds':'Total Year Round Beds','address1':'Address1','address2':'Address2','city':'City','zip':'Zip','Program Name':'Project Name', 'Program Type':'Project Type'}, inplace = True)\n",
    "hic_2021['Notes'] = hic_2021.notes+\". \"+hic_2021.projectNotes\n"
   ]
  },
  {
   "cell_type": "markdown",
   "id": "36081744-9d5f-489d-8ae5-c79491113b83",
   "metadata": {},
   "source": [
    "Combine all raw files into one dataframe"
   ]
  },
  {
   "cell_type": "code",
   "execution_count": null,
   "id": "1e363e3e-7249-4def-be9d-bdfd3736c156",
   "metadata": {},
   "outputs": [],
   "source": [
    "# all_hic_dfs = [hic_2012,\n",
    "#               hic_2013,\n",
    "#               hic_2014,\n",
    "#               hic_2015,\n",
    "#               hic_2016,\n",
    "#               hic_2017,\n",
    "#               hic_2018,\n",
    "#               hic_2019,\n",
    "#               hic_2020,\n",
    "#               hic_2021]"
   ]
  },
  {
   "cell_type": "code",
   "execution_count": 8,
   "id": "701fbba3-ab13-4c53-bef1-7292675a222b",
   "metadata": {},
   "outputs": [],
   "source": [
    "hic_raw = pd.concat([hic_2012,\n",
    "                     hic_2013,\n",
    "                     hic_2014,\n",
    "                     hic_2015,\n",
    "                     hic_2016,\n",
    "                     hic_2017,\n",
    "                     hic_2018,\n",
    "                     hic_2019,\n",
    "                     hic_2020,\n",
    "                     hic_2021], axis=0, ignore_index=True)"
   ]
  },
  {
   "cell_type": "markdown",
   "id": "814ef11d-1e01-4530-bd9b-0f8c15082263",
   "metadata": {},
   "source": [
    "Only keep columns that have been standardized across all years"
   ]
  },
  {
   "cell_type": "code",
   "execution_count": 9,
   "id": "626e1482-333c-426c-831d-8aa298b4de74",
   "metadata": {},
   "outputs": [
    {
     "name": "stderr",
     "output_type": "stream",
     "text": [
      "/var/folders/wd/xqhn8ntj0s58hdf7xthrvnq40000gn/T/ipykernel_13905/61070260.py:1: FutureWarning: In a future version of pandas all arguments of DataFrame.drop except for the argument 'labels' will be keyword-only.\n",
      "  hic_raw.drop(hic_raw.columns.difference(['CoC',\n"
     ]
    }
   ],
   "source": [
    "hic_raw.drop(hic_raw.columns.difference(['CoC',\n",
    "                                    'Year',\n",
    "                                    'Organization Name', \n",
    "                                    'Project Name',\n",
    "                                    'Project Type',\n",
    "                                    'Bed Type',\n",
    "                                    'Inventory Type',\n",
    "                                    'Geo Code',\n",
    "                                    'Total Year Round Beds',\n",
    "                                    'Total Seasonal Beds',\n",
    "                                    'Total Beds',\n",
    "                                    'PIT Count',\n",
    "                                    'CoC Name',\n",
    "                                    'Chronically Homeless Beds',\n",
    "                                    'Availability Start Date',\n",
    "                                    'Availability End Date',\n",
    "                                    'Address1',\n",
    "                                    'Address2',\n",
    "                                    'City',\n",
    "                                    'Zip',\n",
    "                                    'Notes',\n",
    "                                    'housingType',\n",
    "                                    'HMIS Org ID',\n",
    "                                    'HMIS Project ID',\n",
    "                                    'HIC Date',\n",
    "                                    'HMIS Participating']), 1, inplace=True)"
   ]
  },
  {
   "cell_type": "markdown",
   "id": "9d5787ba-f12d-47a6-8e62-b57c7ff34af0",
   "metadata": {},
   "source": [
    "Add a state variable"
   ]
  },
  {
   "cell_type": "code",
   "execution_count": 10,
   "id": "a37da35b-3803-4363-bd4d-4b9539ca2401",
   "metadata": {},
   "outputs": [],
   "source": [
    "hic_raw['State']=hic_raw.CoC.str.slice(0, 2)"
   ]
  },
  {
   "cell_type": "code",
   "execution_count": null,
   "id": "3c1a4416-b1ad-4730-9416-ddd95f46024c",
   "metadata": {},
   "outputs": [],
   "source": [
    "for i in hic_raw.columns:\n",
    "    print(i)"
   ]
  },
  {
   "cell_type": "code",
   "execution_count": null,
   "id": "c22f5d13-c7c7-467e-8182-07f6eaf6f4bc",
   "metadata": {},
   "outputs": [],
   "source": [
    "##cleaned COC \n",
    "cleanedCoC = []\n",
    "for i in hic_raw.CoC:\n",
    "    if(i == \"CA-600\"):\n",
    "        cleanedCoC.append('CA-600')\n",
    "    else:\n",
    "        cleanedCoC.append('all')"
   ]
  },
  {
   "cell_type": "code",
   "execution_count": null,
   "id": "681c2fb6-b138-4e0d-a174-eecb9404befe",
   "metadata": {},
   "outputs": [],
   "source": [
    "#hic_raw['coc'] = cleanedCoC"
   ]
  },
  {
   "cell_type": "code",
   "execution_count": 11,
   "id": "8ac6af21-1e65-4cfb-998e-dba4058091f5",
   "metadata": {},
   "outputs": [
    {
     "data": {
      "text/html": [
       "<div>\n",
       "<style scoped>\n",
       "    .dataframe tbody tr th:only-of-type {\n",
       "        vertical-align: middle;\n",
       "    }\n",
       "\n",
       "    .dataframe tbody tr th {\n",
       "        vertical-align: top;\n",
       "    }\n",
       "\n",
       "    .dataframe thead th {\n",
       "        text-align: right;\n",
       "    }\n",
       "</style>\n",
       "<table border=\"1\" class=\"dataframe\">\n",
       "  <thead>\n",
       "    <tr style=\"text-align: right;\">\n",
       "      <th></th>\n",
       "      <th>CoC Name</th>\n",
       "      <th>CoC</th>\n",
       "      <th>Year</th>\n",
       "      <th>Organization Name</th>\n",
       "      <th>Project Name</th>\n",
       "      <th>Project Type</th>\n",
       "      <th>Bed Type</th>\n",
       "      <th>Geo Code</th>\n",
       "      <th>Inventory Type</th>\n",
       "      <th>Total Year Round Beds</th>\n",
       "      <th>...</th>\n",
       "      <th>Address2</th>\n",
       "      <th>City</th>\n",
       "      <th>Zip</th>\n",
       "      <th>Notes</th>\n",
       "      <th>housingType</th>\n",
       "      <th>HMIS Org ID</th>\n",
       "      <th>HMIS Project ID</th>\n",
       "      <th>HIC Date</th>\n",
       "      <th>HMIS Participating</th>\n",
       "      <th>State</th>\n",
       "    </tr>\n",
       "  </thead>\n",
       "  <tbody>\n",
       "    <tr>\n",
       "      <th>0</th>\n",
       "      <td>Alaska Balance of State CoC</td>\n",
       "      <td>AK-501</td>\n",
       "      <td>2012</td>\n",
       "      <td>Adocates f/Victims of Violnc</td>\n",
       "      <td>DV Shelter</td>\n",
       "      <td>ES</td>\n",
       "      <td>F</td>\n",
       "      <td>29261</td>\n",
       "      <td>C</td>\n",
       "      <td>7</td>\n",
       "      <td>...</td>\n",
       "      <td>NaN</td>\n",
       "      <td>NaN</td>\n",
       "      <td>NaN</td>\n",
       "      <td>NaN</td>\n",
       "      <td>NaN</td>\n",
       "      <td>NaN</td>\n",
       "      <td>NaN</td>\n",
       "      <td>NaN</td>\n",
       "      <td>NaN</td>\n",
       "      <td>AK</td>\n",
       "    </tr>\n",
       "    <tr>\n",
       "      <th>1</th>\n",
       "      <td>Alaska Balance of State CoC</td>\n",
       "      <td>AK-501</td>\n",
       "      <td>2012</td>\n",
       "      <td>AHFC - Public Housing Div</td>\n",
       "      <td>VASH-Fairbanks</td>\n",
       "      <td>PSH</td>\n",
       "      <td>NaN</td>\n",
       "      <td>29090</td>\n",
       "      <td>N</td>\n",
       "      <td>52</td>\n",
       "      <td>...</td>\n",
       "      <td>NaN</td>\n",
       "      <td>NaN</td>\n",
       "      <td>NaN</td>\n",
       "      <td>NaN</td>\n",
       "      <td>NaN</td>\n",
       "      <td>NaN</td>\n",
       "      <td>NaN</td>\n",
       "      <td>NaN</td>\n",
       "      <td>NaN</td>\n",
       "      <td>AK</td>\n",
       "    </tr>\n",
       "    <tr>\n",
       "      <th>2</th>\n",
       "      <td>Alaska Balance of State CoC</td>\n",
       "      <td>AK-501</td>\n",
       "      <td>2012</td>\n",
       "      <td>AK Family Services</td>\n",
       "      <td>DV Shelter</td>\n",
       "      <td>ES</td>\n",
       "      <td>F</td>\n",
       "      <td>29170</td>\n",
       "      <td>C</td>\n",
       "      <td>32</td>\n",
       "      <td>...</td>\n",
       "      <td>NaN</td>\n",
       "      <td>NaN</td>\n",
       "      <td>NaN</td>\n",
       "      <td>NaN</td>\n",
       "      <td>NaN</td>\n",
       "      <td>NaN</td>\n",
       "      <td>NaN</td>\n",
       "      <td>NaN</td>\n",
       "      <td>NaN</td>\n",
       "      <td>AK</td>\n",
       "    </tr>\n",
       "    <tr>\n",
       "      <th>3</th>\n",
       "      <td>Alaska Balance of State CoC</td>\n",
       "      <td>AK-501</td>\n",
       "      <td>2012</td>\n",
       "      <td>AK Family Services</td>\n",
       "      <td>Saxton Shelter</td>\n",
       "      <td>ES</td>\n",
       "      <td>F</td>\n",
       "      <td>29170</td>\n",
       "      <td>C</td>\n",
       "      <td>12</td>\n",
       "      <td>...</td>\n",
       "      <td>NaN</td>\n",
       "      <td>NaN</td>\n",
       "      <td>NaN</td>\n",
       "      <td>NaN</td>\n",
       "      <td>NaN</td>\n",
       "      <td>NaN</td>\n",
       "      <td>NaN</td>\n",
       "      <td>NaN</td>\n",
       "      <td>NaN</td>\n",
       "      <td>AK</td>\n",
       "    </tr>\n",
       "    <tr>\n",
       "      <th>4</th>\n",
       "      <td>Alaska Balance of State CoC</td>\n",
       "      <td>AK-501</td>\n",
       "      <td>2012</td>\n",
       "      <td>Arctic Women in Crisis</td>\n",
       "      <td>DV Shelter</td>\n",
       "      <td>ES</td>\n",
       "      <td>F</td>\n",
       "      <td>29185</td>\n",
       "      <td>C</td>\n",
       "      <td>11</td>\n",
       "      <td>...</td>\n",
       "      <td>NaN</td>\n",
       "      <td>NaN</td>\n",
       "      <td>NaN</td>\n",
       "      <td>NaN</td>\n",
       "      <td>NaN</td>\n",
       "      <td>NaN</td>\n",
       "      <td>NaN</td>\n",
       "      <td>NaN</td>\n",
       "      <td>NaN</td>\n",
       "      <td>AK</td>\n",
       "    </tr>\n",
       "  </tbody>\n",
       "</table>\n",
       "<p>5 rows × 27 columns</p>\n",
       "</div>"
      ],
      "text/plain": [
       "                      CoC Name     CoC  Year             Organization Name  \\\n",
       "0  Alaska Balance of State CoC  AK-501  2012  Adocates f/Victims of Violnc   \n",
       "1  Alaska Balance of State CoC  AK-501  2012     AHFC - Public Housing Div   \n",
       "2  Alaska Balance of State CoC  AK-501  2012            AK Family Services   \n",
       "3  Alaska Balance of State CoC  AK-501  2012            AK Family Services   \n",
       "4  Alaska Balance of State CoC  AK-501  2012        Arctic Women in Crisis   \n",
       "\n",
       "     Project Name Project Type Bed Type  Geo Code Inventory Type  \\\n",
       "0      DV Shelter           ES        F     29261              C   \n",
       "1  VASH-Fairbanks          PSH      NaN     29090              N   \n",
       "2      DV Shelter           ES        F     29170              C   \n",
       "3  Saxton Shelter           ES        F     29170              C   \n",
       "4      DV Shelter           ES        F     29185              C   \n",
       "\n",
       "   Total Year Round Beds  ...  Address2  City Zip Notes  housingType  \\\n",
       "0                      7  ...       NaN   NaN NaN   NaN          NaN   \n",
       "1                     52  ...       NaN   NaN NaN   NaN          NaN   \n",
       "2                     32  ...       NaN   NaN NaN   NaN          NaN   \n",
       "3                     12  ...       NaN   NaN NaN   NaN          NaN   \n",
       "4                     11  ...       NaN   NaN NaN   NaN          NaN   \n",
       "\n",
       "   HMIS Org ID HMIS Project ID HIC Date HMIS Participating  State  \n",
       "0          NaN             NaN      NaN                NaN     AK  \n",
       "1          NaN             NaN      NaN                NaN     AK  \n",
       "2          NaN             NaN      NaN                NaN     AK  \n",
       "3          NaN             NaN      NaN                NaN     AK  \n",
       "4          NaN             NaN      NaN                NaN     AK  \n",
       "\n",
       "[5 rows x 27 columns]"
      ]
     },
     "execution_count": 11,
     "metadata": {},
     "output_type": "execute_result"
    }
   ],
   "source": [
    "hic_raw.head()"
   ]
  },
  {
   "cell_type": "markdown",
   "id": "8106f2ff-1254-4813-a437-68f5956c867d",
   "metadata": {},
   "source": [
    "## Adding County Names Column (from Geo Codes)"
   ]
  },
  {
   "cell_type": "code",
   "execution_count": null,
   "id": "2840e267-88f0-4042-9a98-a3569e748d39",
   "metadata": {},
   "outputs": [],
   "source": [
    "os.chdir('../HIC_geocodes')"
   ]
  },
  {
   "cell_type": "markdown",
   "id": "8620151d-2e9c-42e6-b6a6-d40564ba69ed",
   "metadata": {},
   "source": [
    "geocodes.pdf found at https://www.hud.gov/sites/dfiles/CPD/documents/FY-2021-GeoCodes-with-PPRN_Final.pdf"
   ]
  },
  {
   "cell_type": "code",
   "execution_count": null,
   "id": "7468281e-bea7-43e3-9b09-878dc52434c2",
   "metadata": {},
   "outputs": [],
   "source": [
    "#uncomment this line if geocode dataframe is not already saved\n",
    "#tabula.io.convert_into(input_path = 'geocodes.pdf', output_path= \"geocodes.csv\",pages = 'all')"
   ]
  },
  {
   "cell_type": "code",
   "execution_count": null,
   "id": "2bf178ec-f3d5-4845-8bd3-b1ebda4d7a37",
   "metadata": {},
   "outputs": [],
   "source": [
    "geocodes = pd.read_csv('geocodes.csv')\n",
    "geocodes.head()"
   ]
  },
  {
   "cell_type": "code",
   "execution_count": null,
   "id": "395ec3b7-301a-4487-a7e7-593cf30e7097",
   "metadata": {},
   "outputs": [],
   "source": [
    "geocodes = geocodes[['Geographic','NAME']].drop([0])\n",
    "geocodes"
   ]
  },
  {
   "cell_type": "code",
   "execution_count": null,
   "id": "49e659ed-c035-4855-a775-71c6096b266c",
   "metadata": {},
   "outputs": [],
   "source": [
    "geocodes = geocodes[geocodes.Geographic != 'Geographic']\n",
    "geocodes = geocodes[geocodes.Geographic != 'Name']\n",
    "geocodes = geocodes[geocodes.Geographic != 'Code']"
   ]
  },
  {
   "cell_type": "code",
   "execution_count": null,
   "id": "f1fc8d93-e32f-425c-9a5e-5f834ecec012",
   "metadata": {},
   "outputs": [],
   "source": [
    "##create dictionary\n",
    "geocodes.Geographic =geocodes.Geographic.astype('int64')\n",
    "geocodes"
   ]
  },
  {
   "cell_type": "code",
   "execution_count": null,
   "id": "56ead2cf-2801-4259-90d8-8509442030cd",
   "metadata": {},
   "outputs": [],
   "source": [
    "geocodes_dict = dict(zip(geocodes.Geographic,geocodes.NAME))"
   ]
  },
  {
   "cell_type": "code",
   "execution_count": null,
   "id": "7d55e16d-87f6-416b-9b2f-0fd7c5596727",
   "metadata": {},
   "outputs": [],
   "source": [
    "hic_raw['County'] = hic_raw['Geo Code'].map(geocodes_dict)"
   ]
  },
  {
   "cell_type": "markdown",
   "id": "ce225e4a-04b6-452d-a6a8-667a530e9850",
   "metadata": {},
   "source": [
    "Uncomment to Export Cleaned Dataset:"
   ]
  },
  {
   "cell_type": "code",
   "execution_count": null,
   "id": "ef80beab-1380-48c6-ac19-b040b4dc0b24",
   "metadata": {},
   "outputs": [],
   "source": [
    "#hic_raw.to_csv('hic_cleaned.csv')"
   ]
  },
  {
   "cell_type": "code",
   "execution_count": null,
   "id": "0979534d-8a8b-44f3-bd6d-95fb1509b9da",
   "metadata": {},
   "outputs": [],
   "source": [
    "hic_raw.columns"
   ]
  },
  {
   "cell_type": "markdown",
   "id": "c19dfcb5-4fed-4747-8726-1897a684e19e",
   "metadata": {},
   "source": [
    "### Exploring Correlation between PIT Counts and Total Beds"
   ]
  },
  {
   "cell_type": "code",
   "execution_count": null,
   "id": "6d1455dc-9e10-453b-9a99-1b97cee8e09b",
   "metadata": {},
   "outputs": [],
   "source": [
    "LA_agg = pd.DataFrame(LA_hic.groupby('Year')[['Total Beds','PIT Count']].sum())\n",
    "LA_agg"
   ]
  },
  {
   "cell_type": "code",
   "execution_count": null,
   "id": "653bd4e9-52f0-4da0-99c1-ac3c0463d85e",
   "metadata": {},
   "outputs": [],
   "source": [
    "sns.lineplot(data = LA_agg, x = LA_agg.index, y = 'Total Beds', label = 'Total Beds') #orange\n",
    "sns.lineplot(data = LA_agg, x = LA_agg.index, y = 'PIT Count',label = 'PIT Count') #blue\n",
    "plt.show()"
   ]
  }
 ],
 "metadata": {
  "kernelspec": {
   "display_name": "Python 3 (ipykernel)",
   "language": "python",
   "name": "python3"
  },
  "language_info": {
   "codemirror_mode": {
    "name": "ipython",
    "version": 3
   },
   "file_extension": ".py",
   "mimetype": "text/x-python",
   "name": "python",
   "nbconvert_exporter": "python",
   "pygments_lexer": "ipython3",
   "version": "3.9.14"
  }
 },
 "nbformat": 4,
 "nbformat_minor": 5
}
